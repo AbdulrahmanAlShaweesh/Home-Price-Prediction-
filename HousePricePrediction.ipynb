{
 "cells": [
  {
   "cell_type": "markdown",
   "id": "d1bcb54c-7e78-45a7-a2da-906e211ad32c",
   "metadata": {},
   "source": [
    "### Importing the Required Libraries"
   ]
  },
  {
   "cell_type": "code",
   "execution_count": 1,
   "id": "d3b5b125-e11a-4822-89a2-21ad10d4497e",
   "metadata": {},
   "outputs": [],
   "source": [
    "import numpy as np                                       # to create array\n",
    "import pandas as pd                                      # for creating dataframe\n",
    "import matplotlib.pyplot as plt                          # to plot the data (visulaize it)\n",
    "import seaborn as sns                                    # to plot the data (visulaize it)\n",
    "import sklearn.datasets                                  # to get the dataset we need to work with from the sklearn\n",
    "from sklearn.model_selection import train_test_split     # to split the data into train and test\n",
    "from xgboost import XGBRegressor\n",
    "from sklearn import metrics                              # for evaluation the model"
   ]
  },
  {
   "cell_type": "markdown",
   "id": "40571858-8c9b-498e-9c37-843e1eaa0cbe",
   "metadata": {},
   "source": [
    "### Loading California_Housing Dataset from Datasets library"
   ]
  },
  {
   "cell_type": "code",
   "execution_count": 27,
   "id": "c1fb0a50-34f7-4bc7-bc35-8b119da80c1f",
   "metadata": {},
   "outputs": [],
   "source": [
    "california_house_price_dataset = sklearn.datasets.fetch_california_housing()"
   ]
  },
  {
   "cell_type": "markdown",
   "id": "95a35bb2-c6bf-46d8-80bf-71356087f495",
   "metadata": {},
   "source": [
    "### Loading the dataset into pandas dataframe "
   ]
  },
  {
   "cell_type": "code",
   "execution_count": 21,
   "id": "f4b5f79d-382d-4e9c-a53a-2b6c94078b22",
   "metadata": {},
   "outputs": [],
   "source": [
    "house_price_df = pd.DataFrame(california_house_price_dataset.data, columns=california_house_price_dataset.feature_names)"
   ]
  },
  {
   "cell_type": "markdown",
   "id": "a88a5cb7-252e-4693-a389-2e413953e912",
   "metadata": {},
   "source": [
    "### Inserting Targe \"Home price\" column"
   ]
  },
  {
   "cell_type": "code",
   "execution_count": 30,
   "id": "58011b07-377b-4d53-84c2-113874a7f964",
   "metadata": {},
   "outputs": [],
   "source": [
    "house_price_df['Price'] = california_house_price_dataset.target"
   ]
  },
  {
   "cell_type": "code",
   "execution_count": 32,
   "id": "984a8adf-f2bf-4b54-b3b6-547c3bb00d0b",
   "metadata": {},
   "outputs": [
    {
     "data": {
      "text/html": [
       "<div>\n",
       "<style scoped>\n",
       "    .dataframe tbody tr th:only-of-type {\n",
       "        vertical-align: middle;\n",
       "    }\n",
       "\n",
       "    .dataframe tbody tr th {\n",
       "        vertical-align: top;\n",
       "    }\n",
       "\n",
       "    .dataframe thead th {\n",
       "        text-align: right;\n",
       "    }\n",
       "</style>\n",
       "<table border=\"1\" class=\"dataframe\">\n",
       "  <thead>\n",
       "    <tr style=\"text-align: right;\">\n",
       "      <th></th>\n",
       "      <th>MedInc</th>\n",
       "      <th>HouseAge</th>\n",
       "      <th>AveRooms</th>\n",
       "      <th>AveBedrms</th>\n",
       "      <th>Population</th>\n",
       "      <th>AveOccup</th>\n",
       "      <th>Latitude</th>\n",
       "      <th>Longitude</th>\n",
       "      <th>Price</th>\n",
       "    </tr>\n",
       "  </thead>\n",
       "  <tbody>\n",
       "    <tr>\n",
       "      <th>0</th>\n",
       "      <td>8.3252</td>\n",
       "      <td>41.0</td>\n",
       "      <td>6.984127</td>\n",
       "      <td>1.023810</td>\n",
       "      <td>322.0</td>\n",
       "      <td>2.555556</td>\n",
       "      <td>37.88</td>\n",
       "      <td>-122.23</td>\n",
       "      <td>4.526</td>\n",
       "    </tr>\n",
       "    <tr>\n",
       "      <th>1</th>\n",
       "      <td>8.3014</td>\n",
       "      <td>21.0</td>\n",
       "      <td>6.238137</td>\n",
       "      <td>0.971880</td>\n",
       "      <td>2401.0</td>\n",
       "      <td>2.109842</td>\n",
       "      <td>37.86</td>\n",
       "      <td>-122.22</td>\n",
       "      <td>3.585</td>\n",
       "    </tr>\n",
       "    <tr>\n",
       "      <th>2</th>\n",
       "      <td>7.2574</td>\n",
       "      <td>52.0</td>\n",
       "      <td>8.288136</td>\n",
       "      <td>1.073446</td>\n",
       "      <td>496.0</td>\n",
       "      <td>2.802260</td>\n",
       "      <td>37.85</td>\n",
       "      <td>-122.24</td>\n",
       "      <td>3.521</td>\n",
       "    </tr>\n",
       "    <tr>\n",
       "      <th>3</th>\n",
       "      <td>5.6431</td>\n",
       "      <td>52.0</td>\n",
       "      <td>5.817352</td>\n",
       "      <td>1.073059</td>\n",
       "      <td>558.0</td>\n",
       "      <td>2.547945</td>\n",
       "      <td>37.85</td>\n",
       "      <td>-122.25</td>\n",
       "      <td>3.413</td>\n",
       "    </tr>\n",
       "    <tr>\n",
       "      <th>4</th>\n",
       "      <td>3.8462</td>\n",
       "      <td>52.0</td>\n",
       "      <td>6.281853</td>\n",
       "      <td>1.081081</td>\n",
       "      <td>565.0</td>\n",
       "      <td>2.181467</td>\n",
       "      <td>37.85</td>\n",
       "      <td>-122.25</td>\n",
       "      <td>3.422</td>\n",
       "    </tr>\n",
       "  </tbody>\n",
       "</table>\n",
       "</div>"
      ],
      "text/plain": [
       "   MedInc  HouseAge  AveRooms  AveBedrms  Population  AveOccup  Latitude  \\\n",
       "0  8.3252      41.0  6.984127   1.023810       322.0  2.555556     37.88   \n",
       "1  8.3014      21.0  6.238137   0.971880      2401.0  2.109842     37.86   \n",
       "2  7.2574      52.0  8.288136   1.073446       496.0  2.802260     37.85   \n",
       "3  5.6431      52.0  5.817352   1.073059       558.0  2.547945     37.85   \n",
       "4  3.8462      52.0  6.281853   1.081081       565.0  2.181467     37.85   \n",
       "\n",
       "   Longitude  Price  \n",
       "0    -122.23  4.526  \n",
       "1    -122.22  3.585  \n",
       "2    -122.24  3.521  \n",
       "3    -122.25  3.413  \n",
       "4    -122.25  3.422  "
      ]
     },
     "execution_count": 32,
     "metadata": {},
     "output_type": "execute_result"
    }
   ],
   "source": [
    "house_price_df.head()"
   ]
  },
  {
   "cell_type": "code",
   "execution_count": null,
   "id": "235de5e4-3691-4628-8c5f-bf54610d6ac3",
   "metadata": {},
   "outputs": [],
   "source": []
  },
  {
   "cell_type": "code",
   "execution_count": null,
   "id": "c07597c9-c222-4ae0-9140-9deeb142c316",
   "metadata": {},
   "outputs": [],
   "source": []
  }
 ],
 "metadata": {
  "kernelspec": {
   "display_name": "Python 3 (ipykernel)",
   "language": "python",
   "name": "python3"
  },
  "language_info": {
   "codemirror_mode": {
    "name": "ipython",
    "version": 3
   },
   "file_extension": ".py",
   "mimetype": "text/x-python",
   "name": "python",
   "nbconvert_exporter": "python",
   "pygments_lexer": "ipython3",
   "version": "3.11.9"
  }
 },
 "nbformat": 4,
 "nbformat_minor": 5
}
