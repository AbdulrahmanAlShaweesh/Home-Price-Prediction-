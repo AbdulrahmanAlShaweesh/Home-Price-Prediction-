{
 "cells": [
  {
   "cell_type": "markdown",
   "id": "d1bcb54c-7e78-45a7-a2da-906e211ad32c",
   "metadata": {},
   "source": [
    "### Importing the Required Libraries"
   ]
  },
  {
   "cell_type": "code",
   "execution_count": 25,
   "id": "d3b5b125-e11a-4822-89a2-21ad10d4497e",
   "metadata": {},
   "outputs": [],
   "source": [
    "import numpy as np                                       # to create array\n",
    "import pandas as pd                                      # for creating dataframe\n",
    "import matplotlib.pyplot as plt                          # to plot the data (visulaize it)\n",
    "import seaborn as sns                                    # to plot the data (visulaize it)\n",
    "import sklearn.datasets                                  # to get the dataset we need to work with from the sklearn\n",
    "from sklearn.model_selection import train_test_split     # to split the data into train and test\n",
    "from xgboost import XGBRegressor\n",
    "from sklearn import metrics                              # for evaluation the model"
   ]
  },
  {
   "cell_type": "markdown",
   "id": "40571858-8c9b-498e-9c37-843e1eaa0cbe",
   "metadata": {},
   "source": [
    "### Loading California_Housing Dataset from Datasets library"
   ]
  },
  {
   "cell_type": "code",
   "execution_count": 15,
   "id": "c1fb0a50-34f7-4bc7-bc35-8b119da80c1f",
   "metadata": {},
   "outputs": [
    {
     "name": "stdout",
     "output_type": "stream",
     "text": [
      "Collecting xgboost\n",
      "  Downloading xgboost-2.1.2-py3-none-macosx_10_15_x86_64.macosx_11_0_x86_64.macosx_12_0_x86_64.whl.metadata (2.1 kB)\n",
      "Requirement already satisfied: numpy in /Users/alshwishabdulrahman/anaconda3/lib/python3.11/site-packages (from xgboost) (1.26.4)\n",
      "Requirement already satisfied: scipy in /Users/alshwishabdulrahman/anaconda3/lib/python3.11/site-packages (from xgboost) (1.13.1)\n",
      "Downloading xgboost-2.1.2-py3-none-macosx_10_15_x86_64.macosx_11_0_x86_64.macosx_12_0_x86_64.whl (2.1 MB)\n",
      "\u001b[2K   \u001b[90m━━━━━━━━━━━━━━━━━━━━━━━━━━━━━━━━━━━━━━━━\u001b[0m \u001b[32m2.1/2.1 MB\u001b[0m \u001b[31m578.3 kB/s\u001b[0m eta \u001b[36m0:00:00\u001b[0ma \u001b[36m0:00:01\u001b[0m\n",
      "\u001b[?25hInstalling collected packages: xgboost\n",
      "Successfully installed xgboost-2.1.2\n"
     ]
    }
   ],
   "source": []
  },
  {
   "cell_type": "code",
   "execution_count": null,
   "id": "86067e0c-6aef-440d-a554-6fb67868b6dc",
   "metadata": {},
   "outputs": [],
   "source": []
  },
  {
   "cell_type": "code",
   "execution_count": null,
   "id": "aa7903bd-ebae-40a3-ab88-f201dc975496",
   "metadata": {},
   "outputs": [],
   "source": []
  },
  {
   "cell_type": "code",
   "execution_count": null,
   "id": "f4b5f79d-382d-4e9c-a53a-2b6c94078b22",
   "metadata": {},
   "outputs": [],
   "source": []
  }
 ],
 "metadata": {
  "kernelspec": {
   "display_name": "Python 3 (ipykernel)",
   "language": "python",
   "name": "python3"
  },
  "language_info": {
   "codemirror_mode": {
    "name": "ipython",
    "version": 3
   },
   "file_extension": ".py",
   "mimetype": "text/x-python",
   "name": "python",
   "nbconvert_exporter": "python",
   "pygments_lexer": "ipython3",
   "version": "3.11.9"
  }
 },
 "nbformat": 4,
 "nbformat_minor": 5
}
